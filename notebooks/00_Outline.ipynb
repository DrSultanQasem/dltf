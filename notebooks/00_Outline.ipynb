{
 "cells": [
  {
   "cell_type": "markdown",
   "metadata": {},
   "source": [
    "# Deep Learning with TensorFlow Workshop "
   ]
  },
  {
   "cell_type": "markdown",
   "metadata": {
    "heading_collapsed": true
   },
   "source": [
    "# Outline"
   ]
  },
  {
   "cell_type": "markdown",
   "metadata": {},
   "source": [
    "# [01 Intro](https://github.com/aymanibrahim/dltf/blob/master/notebooks/01_Intro.ipynb)"
   ]
  },
  {
   "cell_type": "markdown",
   "metadata": {},
   "source": [
    "- [X] HelloWorld with TensorFlow\n",
    "- [ ] Linear Regression\n",
    "- [ ] Logistic Regression\n",
    "- [ ] Activation Functions"
   ]
  },
  {
   "cell_type": "markdown",
   "metadata": {
    "heading_collapsed": true
   },
   "source": [
    "## [02 Convolutional Neural Networks (CNN)](https://github.com/aymanibrahim/dltf/blob/master/notebooks/02_CNN.ipynb)"
   ]
  },
  {
   "cell_type": "markdown",
   "metadata": {
    "hidden": true
   },
   "source": [
    "- [ ] Introduction to Convolutional Networks\n",
    "- [ ] Convolution and Feature Learning\n",
    "- [ ] Convolution with Python and Tensor Flow\n",
    "- [ ] The MNIST Database\n",
    "- [ ] Multilayer Perceptron with Tensor Flow\n",
    "- [ ] Convolutional Network with Tensor Flow"
   ]
  },
  {
   "cell_type": "markdown",
   "metadata": {
    "heading_collapsed": true
   },
   "source": [
    "## [03 Recurrent Neural Networks (RNN)](https://github.com/aymanibrahim/dltf/blob/master/notebooks/03_RNN.ipynb)"
   ]
  },
  {
   "cell_type": "markdown",
   "metadata": {
    "hidden": true
   },
   "source": [
    "- [ ] The Recurrent Neural Network Model \n",
    "- [ ] Long Short-Term Memory\n",
    "- [ ] Recursive Neural Tensor Network Theory\n",
    "- [ ] Applying Recurrent Networks to Language Modelling"
   ]
  },
  {
   "cell_type": "markdown",
   "metadata": {
    "heading_collapsed": true
   },
   "source": [
    "## [04  Unsupervised Learning](https://github.com/aymanibrahim/dltf/blob/master/notebooks/04_RBM.ipynb)"
   ]
  },
  {
   "cell_type": "markdown",
   "metadata": {
    "hidden": true
   },
   "source": [
    "- [ ] The Applications of Unsupervised Learning\n",
    "- [ ] Restricted Boltzmann Machine\n",
    "- [ ] Training a Restricted Boltzman Machine\n",
    "- [ ] Recommendation System with a Restrictive Boltzman Machine"
   ]
  },
  {
   "cell_type": "markdown",
   "metadata": {
    "heading_collapsed": true
   },
   "source": [
    "## [05 Autoencoders](https://github.com/aymanibrahim/dltf/blob/master/notebooks/05_Autoencoders.ipynb)"
   ]
  },
  {
   "cell_type": "markdown",
   "metadata": {
    "hidden": true
   },
   "source": [
    "- [ ] Introduction to Autoencoders and Applications\n",
    "- [ ] Autoencoder Structure\n",
    "- [ ] Deep Belief Network"
   ]
  }
 ],
 "metadata": {
  "kernelspec": {
   "display_name": "Python 3",
   "language": "python",
   "name": "python3"
  },
  "language_info": {
   "codemirror_mode": {
    "name": "ipython",
    "version": 3
   },
   "file_extension": ".py",
   "mimetype": "text/x-python",
   "name": "python",
   "nbconvert_exporter": "python",
   "pygments_lexer": "ipython3",
   "version": "3.7.3"
  }
 },
 "nbformat": 4,
 "nbformat_minor": 4
}
